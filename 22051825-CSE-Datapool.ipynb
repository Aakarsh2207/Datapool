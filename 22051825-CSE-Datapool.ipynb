# Importing necessary libraries
import pandas as pd
import numpy as np
import matplotlib.pyplot as plt
import seaborn as sns


# 1. Load the dataset CSV file into a DataFrame
file_path = 'Walmart.csv' 
df = pd.read_csv(file_path) 
print("DataFrame loaded from CSV file:") 
print(df.head())


# 2. Display all the technical stats of the dataset
print("Technical Stats of the Dataset:")
print(df.describe())
print("\nData Information:")
print(df.info())
## Check for missing values
print("\nMissing Values:")
print(df.isnull().sum())


# 3. Questions and insights

## Question 1: What is the average sales across all stores?
average_sales = df['Weekly_Sales'].mean()
print(f"\n1. The average sales across all stores: ${average_sales:.2f}")

## Question 2: What is the distribution of sales? (Histogram plot)
print("\n2. Histogram plot of the distribution of sales:")
plt.figure(figsize=(10, 6))
sns.histplot(df['Weekly_Sales'], bins=30, kde=True, color='blue')
plt.title('Distribution of Weekly Sales')
plt.xlabel('Weekly Sales')
plt.ylabel('Frequency')
plt.show()

## Question 3: What are the quartiles of the weekly sales?
sales_quartiles = df['Weekly_Sales'].quantile([0.25, 0.5, 0.75])
print("\n3. Quartiles of Weekly Sales (25th, 50th, 75th Percentile):")
print(sales_quartiles)

## Question 4: How do sales vary between different stores? (Groupby analysis)
store_sales = df.groupby('Store')['Weekly_Sales'].sum().sort_values(ascending=False)
print("\n4. Groupby analysis of sales vary between different stores:")

# Plot sales per store
plt.figure(figsize=(12, 6))
store_sales.plot(kind='bar', color='green')
plt.title('Total Sales per Store')
plt.xlabel('Store')
plt.ylabel('Total Sales')
plt.xticks(rotation=45)
plt.tight_layout()
plt.show()

## Question 5: Which store has the highest sales?
highest_sales_store = store_sales.idxmax()
highest_sales_value = store_sales.max()
print(f"\n5. Store with the highest total sales is Store {highest_sales_store} with sales amounting to ${highest_sales_value:.2f}")

## Question 6: What is the mean, median, and mode of weekly sales?
mean_sales = df['Weekly_Sales'].mean()
median_sales = df['Weekly_Sales'].median()
mode_sales = df['Weekly_Sales'].mode()[0]

print(f"\n6. Mean, Median, and Mode of Weekly Sales:")
print(f"Mean: ${mean_sales:.2f}")
print(f"Median: ${median_sales:.2f}")
print(f"Mode: ${mode_sales:.2f}")
